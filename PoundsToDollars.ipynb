{
 "cells": [
  {
   "cell_type": "markdown",
   "id": "d3f445ff-2f1e-4619-9018-2885b18cf7a8",
   "metadata": {},
   "source": [
    "# ASSIGNMENT 1: PYTHON FUNDAMENTALS"
   ]
  },
  {
   "cell_type": "markdown",
   "id": "de0d233a-5baf-491a-93b2-3e3bf042eced",
   "metadata": {},
   "source": [
    "### EXERCISE 1\n",
    "\n",
    "Write a Python code that prints your name, student number and email address.  "
   ]
  },
  {
   "cell_type": "code",
   "execution_count": 3,
   "id": "ca7ce4c7-aa6e-40d7-8e21-4090539c125c",
   "metadata": {},
   "outputs": [
    {
     "name": "stdin",
     "output_type": "stream",
     "text": [
      "Enter your name: Liana Simon\n",
      "Enter your student number: 047\n",
      "Enter your email address liana@gmail.com\n"
     ]
    }
   ],
   "source": [
    "print=input(\"Enter your name:\")\n",
    "print=int(input(\"Enter your student number:\"))\n",
    "print=input(\"Enter your email address\")"
   ]
  },
  {
   "cell_type": "markdown",
   "id": "e485b52b-6a0e-46c0-a2e9-fa088b70c02d",
   "metadata": {},
   "source": [
    "### Or"
   ]
  },
  {
   "cell_type": "code",
   "execution_count": 4,
   "id": "62651c25-4299-4438-b7fe-235aa0bebb57",
   "metadata": {},
   "outputs": [
    {
     "name": "stdout",
     "output_type": "stream",
     "text": [
      "The name of the student is Liana Simon\n",
      "The student number is 047\n",
      "The student email address is liana@gmail.com\n"
     ]
    }
   ],
   "source": [
    "print(\"The name of the student is Liana Simon\")\n",
    "print(\"The student number is 047\")\n",
    "print(\"The student email address is liana@gmail.com\")"
   ]
  },
  {
   "cell_type": "markdown",
   "id": "e8414ebd-4a92-4734-897e-7890860d6a62",
   "metadata": {},
   "source": [
    "### EXERCISE 2\n",
    "\n",
    "Write Python code that prints your name, student number and email address using escape sequences.     "
   ]
  },
  {
   "cell_type": "code",
   "execution_count": 8,
   "id": "21e909c5-0a77-4df7-8b5b-226a07f8e98b",
   "metadata": {},
   "outputs": [
    {
     "name": "stdout",
     "output_type": "stream",
     "text": [
      "The name of the student is:\n",
      " \n",
      "Liana Simon\n",
      "\n",
      "\n",
      "The student number is\t : 0 \\ 47\n",
      "\n",
      "\n",
      "The email address of the student is:\tliana@gmail.com\n"
     ]
    }
   ],
   "source": [
    "print(\"The name of the student is:\\n \")\n",
    "print(\"Liana Simon\")\n",
    "print(\"\\n\")\n",
    "print(\"The student number is\\t\",\":\",0,\"\\\\\",47)\n",
    "print(\"\\n\")\n",
    "print(\"The email address of the student is:\\tliana@gmail.com\")\n"
   ]
  },
  {
   "cell_type": "markdown",
   "id": "a47c8c1a-c17e-4158-ae5f-c1cceb7a24f1",
   "metadata": {},
   "source": [
    "### EXERCISE 3\n",
    "\n",
    "Write Python code that add, subtract, multiply and divide the two numbers. You can use the two numbers 14 and 7"
   ]
  },
  {
   "cell_type": "code",
   "execution_count": 23,
   "id": "51985c6e-4edf-4a47-b600-bb6a018625ed",
   "metadata": {},
   "outputs": [
    {
     "name": "stdout",
     "output_type": "stream",
     "text": [
      "The addition of 14 and 7 gives: 21\n",
      "The subtraction of 14 and 7 gives: 7\n",
      "The multiplication of 14 and 7 gives: 98\n",
      "The division of 14 and 7 gives: 2.0\n"
     ]
    }
   ],
   "source": [
    "a=14\n",
    "b=7\n",
    "print(\"The addition of\",a,\"and\",b,\"gives:\",a+b) #addition\n",
    "print(\"The subtraction of\",a,\"and\",b,\"gives:\",a-b) #subtraction\n",
    "print(\"The multiplication of\",a,\"and\",b,\"gives:\",a*b) #multiplication\n",
    "print(\"The division of\",a,\"and\",b,\"gives:\",a/b) #division"
   ]
  },
  {
   "cell_type": "markdown",
   "id": "4591452c-0e25-4503-873a-7dacd74ace83",
   "metadata": {},
   "source": [
    "### EXERCISE 4\n",
    "\n",
    "Write Python code that displays the numbers from 1 to 5 as steps. "
   ]
  },
  {
   "cell_type": "code",
   "execution_count": 80,
   "id": "d4aca573-cc2c-4aa0-a92e-a995739c443f",
   "metadata": {},
   "outputs": [
    {
     "name": "stdout",
     "output_type": "stream",
     "text": [
      "1\n",
      "2\n",
      "3\n",
      "4\n",
      "5\n"
     ]
    }
   ],
   "source": [
    "for i in range(1,6):\n",
    "    print(i)\n",
    "    \n",
    "   \n",
    "   \n"
   ]
  },
  {
   "cell_type": "markdown",
   "id": "a7d8e76c-62c4-4a55-baa2-b3b0306be6bd",
   "metadata": {},
   "source": [
    "### EXERCISE 5\n",
    "\n",
    "Write Python code that outputs the following sentence (including the quotation marks and line break) to the screen: \n",
    "An example runs of the program:  \n",
    "\"SDK\" stands for \"Software Development Kit\", whereas \n",
    "\n",
    "\"IDE\" stands for \"Integrated Development Environment\". \n"
   ]
  },
  {
   "cell_type": "code",
   "execution_count": 102,
   "id": "b0e9d2f9-58c2-43c9-bb06-b92c57af8bef",
   "metadata": {},
   "outputs": [
    {
     "name": "stdout",
     "output_type": "stream",
     "text": [
      "\"SDK\" stands for \"Software Development Kit\",whereas\n",
      "\n",
      "\n",
      "\"IDE\" stands for \"Integrated Development Environment.\"\n"
     ]
    }
   ],
   "source": [
    "print(\"\\\"SDK\\\" stands for \\\"Software Development Kit\\\",whereas\")\n",
    "print(\"\\n\")\n",
    "print(\"\\\"IDE\\\" stands for \\\"Integrated Development Environment.\\\"\")"
   ]
  },
  {
   "cell_type": "markdown",
   "id": "2850845d-9ca8-4bdd-8189-dfe6d4f76ea8",
   "metadata": {},
   "source": [
    "### EXERCISE 5\n",
    "\n",
    "Practice and check the output\n",
    "\n",
    "print(\"python is an \\\"awesome\\\" language.\")\n",
    "\n",
    "print(\"python\\n\\t2023\")\n",
    "\n",
    "print('I\\'m from Entri.\\b')\n",
    "\n",
    "print(\"\\65\")\n",
    "\n",
    "print(\"\\x65\")\n",
    "\n",
    "print(\"Entri\", \"2023\", sep=\"\\n\")\n",
    "\n",
    "print(\"Entri\", \"2023\", sep=\"\\b\")\n",
    "\n",
    "print(\"Entri\", \"2023\", sep=\"*\", end=\"\\b\\b\\b\\b\")\n",
    "\n"
   ]
  },
  {
   "cell_type": "code",
   "execution_count": 113,
   "id": "f9a2fe50-e835-416c-abe0-35bd5c1c69b4",
   "metadata": {},
   "outputs": [
    {
     "name": "stdout",
     "output_type": "stream",
     "text": [
      "python is an \"awesome\" language.\n"
     ]
    }
   ],
   "source": [
    "print(\"python is an \\\"awesome\\\" language.\")"
   ]
  },
  {
   "cell_type": "code",
   "execution_count": 116,
   "id": "cc016bf8-b881-4b83-8331-0c4f323869a6",
   "metadata": {},
   "outputs": [
    {
     "name": "stdout",
     "output_type": "stream",
     "text": [
      "python\n",
      "\t2023\n"
     ]
    }
   ],
   "source": [
    "print(\"python\\n\\t2023\")"
   ]
  },
  {
   "cell_type": "code",
   "execution_count": 118,
   "id": "799b86e7-e290-41eb-baef-c9f3e29bbc26",
   "metadata": {},
   "outputs": [
    {
     "name": "stdout",
     "output_type": "stream",
     "text": [
      "I'm from Entri\n"
     ]
    }
   ],
   "source": [
    "print('I\\'m from Entri.\\b')"
   ]
  },
  {
   "cell_type": "code",
   "execution_count": 132,
   "id": "17233e03-0524-40be-9f19-6ff5e7c57f02",
   "metadata": {},
   "outputs": [
    {
     "name": "stdout",
     "output_type": "stream",
     "text": [
      "5\n"
     ]
    }
   ],
   "source": [
    "print(\"\\65\")"
   ]
  },
  {
   "cell_type": "code",
   "execution_count": 124,
   "id": "3a4ec80f-04a1-41dd-a2ca-6eb75fc7bcff",
   "metadata": {},
   "outputs": [
    {
     "name": "stdout",
     "output_type": "stream",
     "text": [
      "e\n"
     ]
    }
   ],
   "source": [
    "print(\"\\x65\")"
   ]
  },
  {
   "cell_type": "code",
   "execution_count": 126,
   "id": "bbacb40a-39be-4ddd-8ab4-cdc0e7ac4727",
   "metadata": {},
   "outputs": [
    {
     "name": "stdout",
     "output_type": "stream",
     "text": [
      "Entri\n",
      "2023\n"
     ]
    }
   ],
   "source": [
    "print(\"Entri\", \"2023\", sep=\"\\n\")"
   ]
  },
  {
   "cell_type": "code",
   "execution_count": 128,
   "id": "32f083cd-8aa3-48d5-821f-95e3287fb924",
   "metadata": {},
   "outputs": [
    {
     "name": "stdout",
     "output_type": "stream",
     "text": [
      "Entr2023\n"
     ]
    }
   ],
   "source": [
    "print(\"Entri\", \"2023\", sep=\"\\b\")"
   ]
  },
  {
   "cell_type": "code",
   "execution_count": 130,
   "id": "f0f8f230-3527-41a0-91e7-ee0695bbed3c",
   "metadata": {},
   "outputs": [
    {
     "name": "stdout",
     "output_type": "stream",
     "text": [
      "Entri*20"
     ]
    }
   ],
   "source": [
    "print(\"Entri\", \"2023\", sep=\"*\", end=\"\\b\\b\\b\\b\")"
   ]
  },
  {
   "cell_type": "markdown",
   "id": "01a3b8c1-e5da-48cb-8f35-641f71d81eea",
   "metadata": {},
   "source": [
    "### EXERCISE 7\n",
    "\n",
    "Define the variables below. Print the types of each variable. What is the sum of your variables? (Hint: use a type conversion function.) What datatype is the sum?\n",
    "\n",
    "num=23\n",
    "\n",
    "textnum=\"57\"\n",
    "\n",
    "decimal=98.3\n"
   ]
  },
  {
   "cell_type": "code",
   "execution_count": 153,
   "id": "242ecc81-900a-4290-bee5-81e1d2ec696d",
   "metadata": {},
   "outputs": [
    {
     "name": "stdout",
     "output_type": "stream",
     "text": [
      "<class 'int'>\n",
      "<class 'str'>\n",
      "<class 'float'>\n",
      "Sum of the variables= 178.3\n",
      "The type of SUM is  <class 'float'>\n"
     ]
    }
   ],
   "source": [
    "num=23\n",
    "textnum=\"57\"\n",
    "decimal=98.3\n",
    "print(type(num))\n",
    "print(type(textnum))\n",
    "print(type(decimal))\n",
    "\n",
    "sum=num+int(textnum)+decimal\n",
    "print(\"Sum of the variables=\",sum)\n",
    "print(\"The type of SUM is \",type(sum))\n"
   ]
  },
  {
   "cell_type": "markdown",
   "id": "46b9867e-e086-47de-aafe-be415bfc3beb",
   "metadata": {},
   "source": [
    "### EXERCISE 8\n",
    "\n",
    "calculate the number of minutes in a year using variables for each unit of time. print a statement that describes what your code does also. Create three variables to store no of days in a year, minute in a hour, hours in a day, then calculate the total minutes in a year and print the values\n",
    "(hint) total number of minutes in an year =No.of days in an year * Hours in a day * Minutes in an hour\n"
   ]
  },
  {
   "cell_type": "code",
   "execution_count": 172,
   "id": "95b61796-0605-4f89-8dc0-28a892a81ff7",
   "metadata": {},
   "outputs": [
    {
     "name": "stdout",
     "output_type": "stream",
     "text": [
      "The total number of minutes can be found by multiplying-no of days in a year, minute in a hour and hours in a day\n",
      "The total number of minutes in a year= 525600\n"
     ]
    }
   ],
   "source": [
    "days=365\n",
    "minutes=60\n",
    "hours=24\n",
    "totalmins=days*hours*minutes\n",
    "print(\"The total number of minutes can be found by multiplying-no of days in a year, minute in a hour and hours in a day\")\n",
    "print(\"The total number of minutes in a year=\",totalmins)"
   ]
  },
  {
   "cell_type": "markdown",
   "id": "f3789425-2212-4db4-99f2-cddfe1a731f8",
   "metadata": {},
   "source": [
    "### EXERCISE\n",
    "\n",
    "Write Python code that asks the user to enter his/her name and then output/prints his/her name with a greeting.\n",
    "\n",
    "An example runs of the program:\n",
    "\n",
    "Please enter you name: Tony\n",
    "\n",
    "Hi Tony, welcome to Python programming :)\n"
   ]
  },
  {
   "cell_type": "code",
   "execution_count": 163,
   "id": "d97e9bb7-f6a2-44ec-b91e-24d2cf6830bf",
   "metadata": {},
   "outputs": [
    {
     "name": "stdin",
     "output_type": "stream",
     "text": [
      "Please enter your name: Rahul\n"
     ]
    },
    {
     "name": "stdout",
     "output_type": "stream",
     "text": [
      "Hi Rahul , welcome to Python programming:)\n"
     ]
    }
   ],
   "source": [
    "a=input(\"Please enter your name:\")\n",
    "print(\"Hi\",a,\", welcome to Python programming:)\")"
   ]
  },
  {
   "cell_type": "markdown",
   "id": "9d48a2c7-5de2-4b32-a9cc-ac7e70754a2a",
   "metadata": {},
   "source": [
    "### EXERCISE\n",
    "\n",
    "Name your file: PoundsToDollars.py\n",
    "\n",
    "Write a program that asks the user to enter an amount in pounds (£) and the program calculates and converts an amount in dollar ($)\n",
    "\n",
    "An example runs of the program:\n",
    "\n",
    "Please enter amount in pounds: XXX\n",
    "\n",
    "£ XXX are $ XXX\n"
   ]
  },
  {
   "cell_type": "code",
   "execution_count": 170,
   "id": "84ae805e-66ba-447d-8d58-9398f8a954e1",
   "metadata": {},
   "outputs": [
    {
     "name": "stdin",
     "output_type": "stream",
     "text": [
      "Enter the amount in pounds(£) 5.3\n"
     ]
    },
    {
     "name": "stdout",
     "output_type": "stream",
     "text": [
      "£ 5.3 are $ 6.678\n"
     ]
    }
   ],
   "source": [
    "pounds=float(input(\"Enter the amount in pounds(£)\"))\n",
    "dollars=pounds*1.26 # Exchange rate is 1pound=1.26 dollars\n",
    "print(\"£\",pounds,\"are\",\"$\",dollars)\n"
   ]
  },
  {
   "cell_type": "code",
   "execution_count": null,
   "id": "d0f5a8ac-49ce-49d7-b02f-cd53e088bbf0",
   "metadata": {},
   "outputs": [],
   "source": []
  }
 ],
 "metadata": {
  "kernelspec": {
   "display_name": "Python [conda env:base] *",
   "language": "python",
   "name": "conda-base-py"
  },
  "language_info": {
   "codemirror_mode": {
    "name": "ipython",
    "version": 3
   },
   "file_extension": ".py",
   "mimetype": "text/x-python",
   "name": "python",
   "nbconvert_exporter": "python",
   "pygments_lexer": "ipython3",
   "version": "3.12.7"
  }
 },
 "nbformat": 4,
 "nbformat_minor": 5
}
